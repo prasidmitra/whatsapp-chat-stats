{
 "cells": [
  {
   "cell_type": "markdown",
   "metadata": {},
   "source": [
    "### Import packages"
   ]
  },
  {
   "cell_type": "code",
   "execution_count": 78,
   "metadata": {},
   "outputs": [],
   "source": [
    "import pandas as pd\n",
    "from datetime import datetime\n",
    "from collections import defaultdict,  Counter\n",
    "import string\n",
    "from IPython.display import Markdown, display"
   ]
  },
  {
   "cell_type": "markdown",
   "metadata": {},
   "source": [
    "### Read stopwords"
   ]
  },
  {
   "cell_type": "code",
   "execution_count": 79,
   "metadata": {},
   "outputs": [],
   "source": [
    "stopwords = set(line.strip() for line in open('stopwords.txt', encoding=\"utf8\"))\n",
    "stopwords = stopwords.union(set(['mr','mrs','one','two','said']))\n",
    "b_stopwords = set(line.strip() for line in open('bengali_stopwords.txt', encoding=\"utf8\"))"
   ]
  },
  {
   "cell_type": "markdown",
   "metadata": {},
   "source": [
    "### Parse chat and create Map"
   ]
  },
  {
   "cell_type": "code",
   "execution_count": 80,
   "metadata": {},
   "outputs": [],
   "source": [
    "chatmap = {}\n",
    "pingermap = defaultdict(int)\n",
    "time_diff = 1 #days\n",
    "prev_date = None\n",
    "firsttext = defaultdict(list)\n",
    "f = open('_chat.txt', encoding=\"utf8\")\n",
    "for line in f:\n",
    "    clist = []\n",
    "    nline = line.strip().replace('\\u200e','').replace('\\u202a','').split()\n",
    "    datestring = ' '.join(nline[0:3])\n",
    "    try:\n",
    "        date = datetime.strptime(datestring, '[%d/%m/%y, %I:%M:%S %p]')\n",
    "    except:\n",
    "        print ('Invalid date in ', nline)\n",
    "    clist.append(' '.join(nline[0:3]))\n",
    "    content = ' '.join(nline[3:]).split(':')\n",
    "    key = content[0].strip()\n",
    "    text = ' '.join(content[1:])\n",
    "    \n",
    "    clist.append(text)\n",
    "    \n",
    "    if prev_date is None:\n",
    "        prev_date = date\n",
    "    else:\n",
    "        diff = date - prev_date\n",
    "        if diff.total_seconds() >= 3600*24*time_diff:\n",
    "            pingermap[key] += 1\n",
    "            firsttext[key].append(text)\n",
    "        prev_date = date    \n",
    "            \n",
    "    if key not in chatmap:\n",
    "        chatmap[key] = []\n",
    "    chatmap[key].append(clist)"
   ]
  },
  {
   "cell_type": "markdown",
   "metadata": {},
   "source": [
    "### Create name- wise word-frequency map"
   ]
  },
  {
   "cell_type": "code",
   "execution_count": 94,
   "metadata": {},
   "outputs": [],
   "source": [
    "countmap = {}\n",
    "table = str.maketrans('','', string.punctuation)\n",
    "n = 100\n",
    "gc = Counter()\n",
    "for name in chatmap:\n",
    "    c = Counter()\n",
    "    #sentences = [[w.lower().translate(table).strip() for w in x[1].split() if not (w.lower() in stopwords or w.lower() in b_stopwords)] for x in chatmap[name]]\n",
    "    sentences = []\n",
    "    for x in chatmap[name]:\n",
    "        sent = []\n",
    "        for w in x[1].split():\n",
    "            w = w.lower().translate(table).strip()\n",
    "            if w not in stopwords:\n",
    "                if w not in b_stopwords:\n",
    "                    sent.append(w)\n",
    "        sentences.append(sent)\n",
    "        \n",
    "                \n",
    "    for i in sentences:\n",
    "        for j in i:\n",
    "            c[j] += 1\n",
    "            gc[j] += 1\n",
    "    countmap[name] = c.most_common(n)"
   ]
  },
  {
   "cell_type": "markdown",
   "metadata": {},
   "source": [
    "### Display most frequent words per person"
   ]
  },
  {
   "cell_type": "code",
   "execution_count": 95,
   "metadata": {},
   "outputs": [
    {
     "data": {
      "text/markdown": [
       "## **Arpan Dutta**"
      ],
      "text/plain": [
       "<IPython.core.display.Markdown object>"
      ]
     },
     "metadata": {},
     "output_type": "display_data"
    },
    {
     "name": "stdout",
     "output_type": "stream",
     "text": [
      "chobbi(9)\traat(7)\tbinku(6)\thalka(6)\tmojo(6)\ttomar(5)\tchapless(5)\tgaan(5)\tpwc(5)\ttheek(5)\tbangladesh(5)\tbaaltai(4)\tchol(4)\tpune(4)\tgechis(4)\tbehala(4)\tdidi(4)\tnoye(4)\tmeet(4)\tsamne(4)\tbaaje(4)\tyr(4)\tchalate(4)\tboshe(4)\tpp(4)\tbaniyeche(4)\tadd(3)\tlevelr(3)\tbiye(3)\tpinik(3)\tkorchillo(3)\tbyatha(3)\tgelo(3)\tmod(3)\tpagla(3)\tstart(3)\tmiss(3)\tmumbai(3)\ttomae(3)\t🥃(3)\tdarjeeling(3)\t👍🏼👍🏼👍🏼(3)\tporashona(3)\tagey(3)\tchillam(3)\tbolbe(3)\tkhushi(3)\tnaachte(3)\t😳(3)\tsir(3)\tdhur(3)\tlyora(3)\tberate(3)\tsalary(3)\tproject(3)\tcazz(3)\tkano(3)\tsaranik(3)\tdicche(3)\t👌🏼👌🏼👌🏼(3)\ttv(3)\tseries(3)\tdp(2)\tsotti(2)\tmondarmoni(2)\tgrp(2)\tplane(2)\t25(2)\tus(2)\tparbo(2)\tnope(2)\tkhai(2)\tjaak(2)\tgoh(2)\tbokachoda(2)\tdara(2)\tkhelam(2)\tdorkar(2)\tjokhon(2)\tarnd(2)\tmins(2)\tdada(2)\tma(2)\t👨‍👩‍👧‍👦(2)\tgelam(2)\tpant(2)\tcholche(2)\tflat(2)\tbcoz(2)\tgroups(2)\tsobh(2)\tbitcoin(2)\talready(2)\tjibon(2)\tporshu(2)\tcig(2)\tghonta(2)\t25k(2)\tshorir(2)\tneye(2)\t\n",
      "\n"
     ]
    },
    {
     "data": {
      "text/markdown": [
       "## **Prasid**"
      ],
      "text/plain": [
       "<IPython.core.display.Markdown object>"
      ]
     },
     "metadata": {},
     "output_type": "display_data"
    },
    {
     "name": "stdout",
     "output_type": "stream",
     "text": [
      "company(16)\tbepok(14)\tfacebook(13)\tvisa(13)\tfootball(12)\tactually(12)\tfat(11)\tyoure(11)\tcode(11)\tlondon(11)\tband(10)\tlagche(10)\tlagbe(10)\tsan(10)\tgelo(9)\tgan(9)\tphone(9)\tweight(9)\tnice(9)\tgym(9)\tgoal(9)\tclass(9)\tdiego(9)\tnam(8)\topor(8)\tcomment(8)\tpost(8)\ttuio(8)\taudio(8)\tscience(8)\tresearch(8)\tkothao(8)\texactly(8)\tmajhe(8)\tenglish(8)\ttest(8)\tboshe(8)\tbritish(8)\tleora(7)\tcalled(7)\tbaler(7)\tberie(7)\tnotun(7)\ttimes(7)\tmod(7)\tpwc(7)\tread(7)\trank(7)\teasily(7)\tcompanies(7)\tfriends(7)\tmal(7)\tduto(7)\tbas(7)\tguess(7)\tfinal(7)\tcountry(7)\tmuscle(7)\tkarur(6)\tish(6)\tgechilam(6)\tmusic(6)\thahahahaha(6)\tyoutube(6)\ture(6)\thifi(6)\tbaba(6)\teasy(6)\tgraph(6)\tliterally(6)\tcoming(6)\tmoney(6)\tcup(6)\tgot(6)\tbhab(6)\tbepar(6)\tkhele(6)\tsince(6)\ttalking(6)\tnetwork(6)\tbasically(6)\tadd(6)\tusing(6)\tashol(6)\tstudents(6)\tscore(6)\tsouth(6)\tsoftware(6)\tdevelopment(6)\tgay(6)\tprem(6)\tplace(6)\tpoint(6)\talready(6)\tbijoy(6)\tchat(6)\trecently(6)\tpari(5)\tkalo(5)\tpuchu(5)\t\n",
      "\n"
     ]
    },
    {
     "data": {
      "text/markdown": [
       "## **Nirmal Roy**"
      ],
      "text/plain": [
       "<IPython.core.display.Markdown object>"
      ]
     },
     "metadata": {},
     "output_type": "display_data"
    },
    {
     "name": "stdout",
     "output_type": "stream",
     "text": [
      "europe(12)\treal(11)\tsex(10)\tspanish(10)\tmod(9)\tcity(9)\tnaam(9)\tdutch(9)\tmatch(9)\ttu(9)\tfinal(9)\tbritish(9)\tlondon(9)\tfollow(8)\tnice(8)\teverything(8)\tnetwork(8)\tcup(8)\tmoment(8)\tbichi(8)\tkata(7)\tkolkata(7)\tbijoy(7)\tpwc(7)\tbiye(7)\till(7)\treally(7)\trandom(7)\tlearning(7)\tphd(7)\tlove(7)\tfriends(7)\tus(7)\tnetherlands(7)\tnever(7)\tdifference(7)\tdutta(6)\t4(6)\tgelo(6)\tkorbi(6)\tdecember(6)\tfootball(6)\tpost(6)\tlanguage(6)\tbeer(6)\tdeep(6)\tcourse(6)\tdhur(6)\tengland(6)\tmaya(6)\tbelieve(6)\tcoach(6)\tchat(6)\tstart(5)\tsheyi(5)\tdibyendu(5)\tkorchish(5)\tduto(5)\tchoto(5)\tlakh(5)\ttalk(5)\tamsterdam(5)\tamerican(5)\tbhule(5)\tiche(5)\tfacebook(5)\tkhela(5)\tsports(5)\tgoal(5)\ttalking(5)\tpaper(5)\tproject(5)\tstuff(5)\tgot(5)\teres(5)\tdoesnt(5)\tphone(5)\titaly(5)\tticket(5)\tweather(5)\tvisa(5)\trich(5)\t30(5)\tnekane(5)\toutside(5)\targentina(5)\tjodi(4)\tmonth(4)\tsudeshna(4)\tnh7(4)\tmangsho(4)\talmost(4)\taudio(4)\tatleast(4)\tboss(4)\tjash(4)\tcar(4)\tghure(4)\tma(4)\tchudir(4)\t\n",
      "\n"
     ]
    },
    {
     "data": {
      "text/markdown": [
       "## **Sourav Sanyal**"
      ],
      "text/plain": [
       "<IPython.core.display.Markdown object>"
      ]
     },
     "metadata": {},
     "output_type": "display_data"
    },
    {
     "name": "stdout",
     "output_type": "stream",
     "text": [
      "bnara(16)\tchakri(14)\toshadharon(13)\tbhaloi(13)\tdarun(13)\tbiye(11)\tegulo(10)\tclassic(10)\tuchit(10)\tjata(10)\tbolchis(10)\tgoogle(10)\thobena(10)\tutah(10)\tay(10)\tblacks(10)\tsotti(9)\tjara(9)\tjigges(9)\tparty(9)\tsorry(9)\tdecember(9)\tbhabchi(8)\tsuru(8)\taste(8)\tkal(8)\tgalo(8)\tband(8)\tlagche(8)\tdekhechi(8)\teurope(8)\tchilam(8)\tphd(8)\tresearch(8)\tee(8)\tkalo(7)\tetai(7)\tjachche(7)\tgechilo(7)\tsobcheye(7)\tchara(7)\tbaba(7)\tjokhon(7)\tgym(7)\tichche(7)\tpaper(7)\tkorto(7)\tpati(7)\tticket(7)\tcollege(7)\twow(7)\ttool(7)\tsize(7)\tgandu(7)\tproblem(7)\tonekdin(6)\tdhuke(6)\texactly(6)\tus(6)\tporte(6)\tshrobona(6)\tkorbi(6)\tatleast(6)\tbachcha(6)\td(6)\tjibone(6)\tschool(6)\tsunlam(6)\tfunny(6)\tchorom(6)\tma(6)\tmatter(6)\tmusic(6)\tchaile(6)\tpari(6)\teasy(6)\tsouth(6)\thoyni(6)\tcalifornia(6)\ttara(6)\tnahole(6)\tmangsho(6)\ttrip(6)\tmuscle(6)\tyou’re(6)\tmiles(6)\tfat(6)\ti’m(6)\tkaka(6)\teducated(6)\tdp(5)\tberie(5)\tnana(5)\tero(5)\tmarried(5)\tsaha(5)\tlearning(5)\tbijoy(5)\tjaygay(5)\tchoto(5)\t\n",
      "\n"
     ]
    },
    {
     "data": {
      "text/markdown": [
       "## **Deeptish**"
      ],
      "text/plain": [
       "<IPython.core.display.Markdown object>"
      ]
     },
     "metadata": {},
     "output_type": "display_data"
    },
    {
     "name": "stdout",
     "output_type": "stream",
     "text": [
      "december(7)\tscience(7)\tchuranto(7)\tnever(6)\taround(6)\tkolkata(6)\tlong(6)\tmight(5)\tgot(5)\tday(5)\tmatter(5)\tend(5)\tive(5)\thard(5)\tcourse(5)\tprobably(5)\trace(5)\tstupid(5)\thappy(4)\tchange(4)\tphone(4)\tlaage(4)\tkamon(4)\tfeel(4)\tpoint(4)\timportant(4)\ttrying(4)\tthings(4)\tgoal(4)\tman(4)\tmatch(4)\thoytoh(4)\tweekend(4)\tpaglachoda(4)\theavy(4)\t👴🏻(4)\tpower(4)\thear(4)\tlook(4)\tlower(4)\tak(4)\todbhut(4)\tdoesnt(4)\tdays(4)\teducation(4)\twhite(4)\tblacks(4)\tbeautiful(3)\tbyaparta(3)\tgame(3)\tobdhi(3)\tleast(3)\tchakri(3)\ttimes(3)\taverage(3)\ttalking(3)\tmonth(3)\tfootball(3)\tkina(3)\tsexy(3)\treally(3)\tgoing(3)\texperience(3)\tmba(3)\tgoals(3)\tmoney(3)\tparty(3)\tdada(3)\tsolid(3)\tidea(3)\tex(3)\tenough(3)\tculture(3)\tbusiness(3)\tworked(3)\thours(3)\texactly(3)\ttell(3)\tproblem(3)\tthakle(3)\tset(3)\ttest(3)\t3te(3)\tanalytics(3)\ttech(3)\tsecond(3)\tinfluence(3)\ttableau(3)\tkano(3)\tswagata(3)\tdeye(3)\tbootstrap(3)\teasy(3)\tdepends(3)\tonyo(3)\tdekhish(3)\tthought(3)\tnoy(3)\twasnt(3)\tfacts(3)\t\n",
      "\n"
     ]
    },
    {
     "data": {
      "text/markdown": [
       "## **Raj**"
      ],
      "text/plain": [
       "<IPython.core.display.Markdown object>"
      ]
     },
     "metadata": {},
     "output_type": "display_data"
    },
    {
     "name": "stdout",
     "output_type": "stream",
     "text": [
      "dutch(8)\tনতুন(6)\tpawa(6)\teuros(6)\tekshathe(5)\tprem(5)\tjaye(5)\taugust(5)\triju(5)\tachi(4)\tflight(4)\tbusiness(4)\tyo(4)\tghure(4)\tbhabchi(4)\tsubir(4)\tuk(4)\tlanguage(4)\tspanish(4)\tberiye(4)\tweather(4)\tmarattok(4)\temirates(4)\tkal(4)\tbag(4)\tdi(3)\t4(3)\ttomar(3)\thoeche(3)\tjacchi(3)\tie(3)\tmasters(3)\tkolkata(3)\tshotti(3)\tbollo(3)\t7th(3)\tkina(3)\tnathu(3)\tsupport(3)\t918017141461(3)\tshokale(3)\tfood(3)\tগাঁড়(3)\tআপনার(3)\tvisa(3)\tpermit(3)\tstudent(3)\tboddo(3)\teurope(3)\tbien(3)\teuropean(3)\tnam(3)\tphilips(3)\tkolkataye(3)\tthakbo(3)\tekgada(3)\tdesh(3)\tdecember(3)\tcity(3)\ttickets(3)\ttomato(3)\tuchit(3)\tjak(3)\tjolche(3)\ttax(3)\tbaire(3)\tdec(3)\t😜(3)\tspices(3)\taschi(2)\tbhabe(2)\tdieche(2)\tscore(2)\tgymnastics(2)\tdekhacche(2)\tbhetore(2)\tarpita(2)\tbarite(2)\tweekender(2)\tsem(2)\tayanangshu(2)\tkortam(2)\tstartup(2)\t2018(2)\tbirthday(2)\tgot(2)\tprobably(2)\tschool(2)\tinternational(2)\tmanagement(2)\tporshu(2)\twhisky(2)\tsummer(2)\t😎😎😎😎(2)\tplan(2)\tdara(2)\tkorechilo(2)\treal(2)\tfan(2)\tbarcelona(2)\t\n",
      "\n"
     ]
    }
   ],
   "source": [
    "for name in countmap:\n",
    "    s = \"\"\n",
    "    for j in countmap[name]:\n",
    "        s += \"{}({})\\t\".format(j[0], str(j[1]))\n",
    "    display(Markdown(\"## **{}**\".format(name)))\n",
    "    print(\"{}\".format(s))  \n",
    "    print()\n",
    "    "
   ]
  },
  {
   "cell_type": "markdown",
   "metadata": {},
   "source": [
    "### Show Ping Stats"
   ]
  },
  {
   "cell_type": "code",
   "execution_count": 93,
   "metadata": {},
   "outputs": [
    {
     "name": "stdout",
     "output_type": "stream",
     "text": [
      "           Name\t\tNo. of pings (time diff = 1 days)\n",
      "  Sourav Sanyal\t\t20\n",
      "    Arpan Dutta\t\t9\n",
      "     Nirmal Roy\t\t16\n",
      "         Prasid\t\t30\n",
      "            Raj\t\t3\n",
      "       Deeptish\t\t4\n"
     ]
    }
   ],
   "source": [
    "print('{:>15}\\t\\t{}'.format('Name','No. of pings (time diff = {} days)'.format(time_diff)))\n",
    "for i in pingermap:\n",
    "    print('{:>15}\\t\\t{}'.format(i, pingermap[i]))"
   ]
  },
  {
   "cell_type": "markdown",
   "metadata": {},
   "source": [
    "### Show activity"
   ]
  },
  {
   "cell_type": "code",
   "execution_count": 88,
   "metadata": {},
   "outputs": [
    {
     "name": "stdout",
     "output_type": "stream",
     "text": [
      "           Name\t\tNumber of messages\n",
      "    Arpan Dutta\t\t911\n",
      "         Prasid\t\t3933\n",
      "     Nirmal Roy\t\t2625\n",
      "  Sourav Sanyal\t\t4035\n",
      "       Deeptish\t\t1302\n",
      "            Raj\t\t644\n"
     ]
    }
   ],
   "source": [
    "print('{:>15}\\t\\t{}'.format('Name','Number of messages'))\n",
    "for i in chatmap:\n",
    "    print('{:>15}\\t\\t{}'.format(i, len(chatmap[i])))"
   ]
  }
 ],
 "metadata": {
  "kernelspec": {
   "display_name": "Python 3",
   "language": "python",
   "name": "python3"
  },
  "language_info": {
   "codemirror_mode": {
    "name": "ipython",
    "version": 3
   },
   "file_extension": ".py",
   "mimetype": "text/x-python",
   "name": "python",
   "nbconvert_exporter": "python",
   "pygments_lexer": "ipython3",
   "version": "3.6.5"
  }
 },
 "nbformat": 4,
 "nbformat_minor": 2
}
